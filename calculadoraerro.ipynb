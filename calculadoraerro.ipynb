{
  "cells": [
    {
      "cell_type": "markdown",
      "metadata": {
        "id": "view-in-github",
        "colab_type": "text"
      },
      "source": [
        "<a href=\"https://colab.research.google.com/github/rawellaquino/Logica.programacao/blob/feature_2/calculadoraerro.ipynb\" target=\"_parent\"><img src=\"https://colab.research.google.com/assets/colab-badge.svg\" alt=\"Open In Colab\"/></a>"
      ]
    },
    {
      "cell_type": "code",
      "execution_count": null,
      "metadata": {
        "id": "RdUA5tqDK7-6"
      },
      "outputs": [],
      "source": [
        "#Calculadora Rawel\n",
        "\n",
        "numero1 = 0\n",
        "numero2 = 0\n",
        "resultado = 0\n",
        "operacao = ''"
      ]
    },
    {
      "cell_type": "code",
      "execution_count": null,
      "metadata": {
        "id": "PdzCncBqdLoX",
        "colab": {
          "base_uri": "https://localhost:8080/",
          "height": 106
        },
        "outputId": "5d9e33fa-f769-416c-f1d0-60341aaa9640"
      },
      "outputs": [
        {
          "output_type": "error",
          "ename": "SyntaxError",
          "evalue": "expected 'except' or 'finally' block (<ipython-input-3-5568537f2843>, line 24)",
          "traceback": [
            "\u001b[0;36m  File \u001b[0;32m\"<ipython-input-3-5568537f2843>\"\u001b[0;36m, line \u001b[0;32m24\u001b[0m\n\u001b[0;31m    print('{} {} {} = {}'.format(numero1, operacao, numero2, resultado))\u001b[0m\n\u001b[0m    ^\u001b[0m\n\u001b[0;31mSyntaxError\u001b[0m\u001b[0;31m:\u001b[0m expected 'except' or 'finally' block\n"
          ]
        }
      ],
      "source": [
        "while True:\n",
        "  numero1 = int(input('Digite o numero 1:'))\n",
        "  operacao = input('Digite a operação:')\n",
        "  numero2 = int(input('Digite o numero 2:'))\n",
        "\n",
        "  if operacao == '+':\n",
        "    resultado = numero1 + numero2\n",
        "  elif operacao == '-':\n",
        "    resultado = numero1 - numero2\n",
        "  elif operacao == '/':\n",
        "    resultado = numero1 / numero2\n",
        "  elif operacao == '*':\n",
        "    resultado = numero1 * numero2\n",
        "  elif operacao == '/' and numero2 != 0:\n",
        "    resultado = numero1 / numero2\n",
        "  else:\n",
        "    print(\"Erro: Divisão por zero não é permitida!\")\n",
        "  try:\n",
        "    numero1 = float(input('Digite o numero 1:'))\n",
        "    numero2 = float(input('Digite o numero 2:'))\n",
        "    print(\"Por favor, insira um número válido.\")\n",
        "    continue\n",
        "\n",
        "  print('{} {} {} = {}'.format(numero1, operacao, numero2, resultado))"
      ]
    },
    {
      "cell_type": "code",
      "source": [],
      "metadata": {
        "id": "RJV6Jt7ZMOlr"
      },
      "execution_count": null,
      "outputs": []
    }
  ],
  "metadata": {
    "colab": {
      "provenance": [],
      "authorship_tag": "ABX9TyPSXobly1SAdF2UXxZBXpn/",
      "include_colab_link": true
    },
    "kernelspec": {
      "display_name": "Python 3",
      "name": "python3"
    },
    "language_info": {
      "name": "python"
    }
  },
  "nbformat": 4,
  "nbformat_minor": 0
}