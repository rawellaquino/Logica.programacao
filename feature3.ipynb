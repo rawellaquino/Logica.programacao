{
  "nbformat": 4,
  "nbformat_minor": 0,
  "metadata": {
    "colab": {
      "provenance": []
    },
    "kernelspec": {
      "name": "python3",
      "display_name": "Python 3"
    },
    "language_info": {
      "name": "python"
    }
  },
  "cells": [
    {
      "cell_type": "code",
      "execution_count": 6,
      "metadata": {
        "id": "WFPw1fn6hJxx"
      },
      "outputs": [],
      "source": [
        "# Qualquer coisa so pra somar algum arquivo a mais\n",
        "\n",
        "#Feature3 aula GIT\n"
      ]
    },
    {
      "cell_type": "code",
      "source": [],
      "metadata": {
        "id": "LK52ysl2hatk"
      },
      "execution_count": null,
      "outputs": []
    }
  ]
}